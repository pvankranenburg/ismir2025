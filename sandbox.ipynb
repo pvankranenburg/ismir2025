{
 "cells": [
  {
   "cell_type": "code",
   "execution_count": 1,
   "id": "7d1691b1",
   "metadata": {},
   "outputs": [],
   "source": [
    "import ast\n",
    "from temperament_functions import *\n",
    "import temperament_functions # to facilitate importlib.reload(temperament_functions) for debugging.\n",
    "import time\n",
    "import importlib\n",
    "import numpy as np\n",
    "import os\n",
    "import json"
   ]
  },
  {
   "cell_type": "code",
   "execution_count": 4,
   "id": "ddc439ea",
   "metadata": {},
   "outputs": [],
   "source": [
    "tunings = {\n",
    "    'wtc_optimal' : [0 , 90.22,  182.4,  294.13,  384.36,  498.04,  588.27,  700,  792.18,  884.36,  996.09, 1086.31],\n",
    "    'wtc_optimal_bounded_fifths' : [0,  93.02, 192, 296.93, 387.15, 500.85, 591.07, 696, 794.98,  888, 998.89, 1089.11],\n",
    "    'wtc_optimal_just_targets' : [0, 102.07, 200.05, 300.9, 403.96, 500.44, 602.71, 700.56, 801.53, 902.01, 1000.8, 1103.37],\n",
    "}"
   ]
  },
  {
   "cell_type": "code",
   "execution_count": 5,
   "id": "14c14570",
   "metadata": {},
   "outputs": [],
   "source": [
    "for name, tuning in tunings.items():\n",
    "    writeTimidityFrequencies(tuning, f'{name}.freqs', f0=415)"
   ]
  },
  {
   "cell_type": "code",
   "execution_count": null,
   "id": "fb7549e5",
   "metadata": {},
   "outputs": [],
   "source": []
  }
 ],
 "metadata": {
  "kernelspec": {
   "display_name": "ismir2025",
   "language": "python",
   "name": "python3"
  },
  "language_info": {
   "codemirror_mode": {
    "name": "ipython",
    "version": 3
   },
   "file_extension": ".py",
   "mimetype": "text/x-python",
   "name": "python",
   "nbconvert_exporter": "python",
   "pygments_lexer": "ipython3",
   "version": "3.12.2"
  }
 },
 "nbformat": 4,
 "nbformat_minor": 5
}
